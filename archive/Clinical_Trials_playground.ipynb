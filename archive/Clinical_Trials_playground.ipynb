{
 "cells": [
  {
   "cell_type": "code",
   "execution_count": null,
   "id": "631153e3",
   "metadata": {},
   "outputs": [],
   "source": [
    "see Clinical_Trials_playground_v01, this is now the working copy"
   ]
  }
 ],
 "metadata": {
  "kernelspec": {
   "display_name": "ct_extract_env",
   "language": "python",
   "name": "ct_extract_env"
  },
  "language_info": {
   "codemirror_mode": {
    "name": "ipython",
    "version": 3
   },
   "file_extension": ".py",
   "mimetype": "text/x-python",
   "name": "python",
   "nbconvert_exporter": "python",
   "pygments_lexer": "ipython3",
   "version": "3.9.12"
  }
 },
 "nbformat": 4,
 "nbformat_minor": 5
}
